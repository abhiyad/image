{
 "cells": [
  {
   "cell_type": "code",
   "execution_count": 1,
   "metadata": {},
   "outputs": [
    {
     "name": "stdout",
     "output_type": "stream",
     "text": [
      "0.00335383415222\n",
      "(475, 638)\n"
     ]
    }
   ],
   "source": [
    "from skimage.io import imread\n",
    "import matplotlib.pyplot as plt\n",
    "import scipy.fftpack as fp\n",
    "import numpy as np\n",
    "import cv2\n",
    "import numpy as np\n",
    "import cv2\n",
    "import matplotlib.pyplot as plt\n",
    "import matplotlib.image as mpimg\n",
    "# import pickle\n",
    "from time import time\n",
    "import json\n",
    "import time\n",
    "def denoise(mask,kernel_size,iterations):\n",
    "    element = cv2.getStructuringElement(cv2.MORPH_RECT, (kernel_size,kernel_size))\n",
    "    for i in range(iterations):\n",
    "        mask = cv2.erode(mask, element, iterations = 1)\n",
    "        mask = cv2.erode(mask, element, iterations = 1)\n",
    "        mask = cv2.dilate(mask, element, iterations = 1)\n",
    "        mask = cv2.dilate(mask, element, iterations = 1)\n",
    "    return mask\n",
    "\n",
    "\n",
    "def line_fit(binary_warped):\n",
    "\t\"\"\"\n",
    "\tFind and fit lane lines\n",
    "\t\"\"\"\n",
    "\t# Assuming you have created a warped binary image called \"binary_warped\"\n",
    "\t# Take a histogram of the bottom half of the image\n",
    "\thistogram = np.sum(binary_warped[binary_warped.shape[0]//2:,:], axis=0)\n",
    "\t# Create an output image to draw on and visualize the result\n",
    "\tout_img = (np.dstack((binary_warped, binary_warped, binary_warped))*255).astype('uint8')\n",
    "\t# Find the peak of the left and right halves of the histogram\n",
    "\t# These will be the starting point for the left and right lines\n",
    "\tmidpoint = np.int(histogram.shape[0]/2)\n",
    "\tleftx_base = np.argmax(histogram[100:midpoint]) + 100\n",
    "\trightx_base = np.argmax(histogram[midpoint:-100]) + midpoint\n",
    "\n",
    "\t# Choose the number of sliding windows\n",
    "\tnwindows = 9\n",
    "\t# Set height of windows\n",
    "\twindow_height = np.int(binary_warped.shape[0]/nwindows)\n",
    "\t# Identify the x and y positions of all nonzero pixels in the image\n",
    "\tnonzero = binary_warped.nonzero()\n",
    "\tnonzeroy = np.array(nonzero[0])\n",
    "\tnonzerox = np.array(nonzero[1])\n",
    "\t# Current positions to be updated for each window\n",
    "\tleftx_current = leftx_base\n",
    "\trightx_current = rightx_base\n",
    "\t# Set the width of the windows +/- margin\n",
    "\tmargin = 50\n",
    "\t# Set minimum number of pixels found to recenter window\n",
    "\tminpix = 50\n",
    "\t# Create empty lists to receive left and right lane pixel indices\n",
    "\tleft_lane_inds = []\n",
    "\tright_lane_inds = []\n",
    "\n",
    "\t# Step through the windows one by one\n",
    "\tfor window in range(nwindows):\n",
    "\t\t# Identify window boundaries in x and y (and right and left)\n",
    "\t\twin_y_low = binary_warped.shape[0] - (window+1)*window_height\n",
    "\t\twin_y_high = binary_warped.shape[0] - window*window_height\n",
    "\t\twin_xleft_low = leftx_current - margin\n",
    "\t\twin_xleft_high = leftx_current + margin\n",
    "\t\twin_xright_low = rightx_current - margin\n",
    "\t\twin_xright_high = rightx_current + margin\n",
    "\t\t# Draw the windows on the visualization image\n",
    "\t\tcv2.rectangle(out_img,(win_xleft_low,win_y_low),(win_xleft_high,win_y_high),(0,255,0), 2)\n",
    "\t\tcv2.rectangle(out_img,(win_xright_low,win_y_low),(win_xright_high,win_y_high),(0,255,0), 2)\n",
    "\t\t# Identify the nonzero pixels in x and y within the window\n",
    "\t\tgood_left_inds = ((nonzeroy >= win_y_low) & (nonzeroy < win_y_high) & (nonzerox >= win_xleft_low) & (nonzerox < win_xleft_high)).nonzero()[0]\n",
    "\t\tgood_right_inds = ((nonzeroy >= win_y_low) & (nonzeroy < win_y_high) & (nonzerox >= win_xright_low) & (nonzerox < win_xright_high)).nonzero()[0]\n",
    "\t\t# Append these indices to the lists\n",
    "\t\tleft_lane_inds.append(good_left_inds)\n",
    "\t\tright_lane_inds.append(good_right_inds)\n",
    "\t\t# If you found > minpix pixels, recenter next window on their mean position\n",
    "\t\tif len(good_left_inds) > minpix:\n",
    "\t\t\tleftx_current = np.int(np.mean(nonzerox[good_left_inds]))\n",
    "\t\tif len(good_right_inds) > minpix:\n",
    "\t\t\trightx_current = np.int(np.mean(nonzerox[good_right_inds]))\n",
    "\n",
    "\t# Concatenate the arrays of indices\n",
    "\tleft_lane_inds = np.concatenate(left_lane_inds)\n",
    "\tright_lane_inds = np.concatenate(right_lane_inds)\n",
    "\n",
    "\t# Extract left and right line pixel positions\n",
    "\tleftx = nonzerox[left_lane_inds]\n",
    "\tlefty = nonzeroy[left_lane_inds]\n",
    "\trightx = nonzerox[right_lane_inds]\n",
    "\trighty = nonzeroy[right_lane_inds]\n",
    "\n",
    "\t# Fit a second order polynomial to each\n",
    "\tleft_fit = np.polyfit(lefty, leftx, 2)\n",
    "\tright_fit = np.polyfit(righty, rightx, 2)\n",
    "\t# print(\"DONE polyfit\")\n",
    "\t# Return a dict of relevant variables\n",
    "\tret = {}\n",
    "\tret['left_fit'] = left_fit\n",
    "\tret['right_fit'] = right_fit\n",
    "\tret['nonzerox'] = nonzerox\n",
    "\tret['nonzeroy'] = nonzeroy\n",
    "\tret['out_img'] = out_img\n",
    "\tret['left_lane_inds'] = left_lane_inds\n",
    "\tret['right_lane_inds'] = right_lane_inds\n",
    "\n",
    "\treturn ret\n",
    "\n",
    "img = cv2.imread('test.jpg',0)\n",
    "mask = np.zeros(shape=(img.shape[0],img.shape[1]))\n",
    "mask [0:120,:]=1\n",
    "mask = mask == 0\n",
    "i=img*mask\n",
    "i=denoise(i,2,1)\n",
    "t=time.time()\n",
    "res = line_fit(i)\n",
    "print(time.time()-t)\n",
    "print(i.shape)\n",
    "from PIL import Image\n",
    "f=Image.fromarray(i)\n",
    "f.show()"
   ]
  },
  {
   "cell_type": "code",
   "execution_count": 2,
   "metadata": {},
   "outputs": [],
   "source": [
    "left_w=np.zeros(shape=(1,3))\n",
    "right_w=np.zeros(shape=(1,3))\n",
    "left_w[0] = res['left_fit'] # order is x^2 , X^1 , x^0 \n",
    "right_w[0] = res['right_fit']"
   ]
  },
  {
   "cell_type": "code",
   "execution_count": 3,
   "metadata": {},
   "outputs": [],
   "source": [
    "left_lane=[]\n",
    "right_lane=[]\n",
    "num=20\n",
    "left_x =  np.arange(0, img.shape[0], int(img.shape[0]/num))\n",
    "right_x =  np.arange(0, img.shape[0], int(img.shape[0]/num))\n"
   ]
  },
  {
   "cell_type": "code",
   "execution_count": 4,
   "metadata": {},
   "outputs": [],
   "source": [
    "left_features = np.zeros(shape=(num+1,3))\n",
    "left_features[:,2] = np.ones(num+1)\n",
    "left_features[:,1] = left_x\n",
    "left_features[:,0] = left_x**2"
   ]
  },
  {
   "cell_type": "code",
   "execution_count": 5,
   "metadata": {},
   "outputs": [],
   "source": [
    "right_features = np.zeros(shape=(num+1,3))\n",
    "right_features[:,2] = np.ones(num+1)\n",
    "right_features[:,1] = left_x\n",
    "right_features[:,0] = left_x**2"
   ]
  },
  {
   "cell_type": "code",
   "execution_count": 6,
   "metadata": {},
   "outputs": [],
   "source": [
    "y_left = np.dot(left_w,np.transpose(left_features))\n",
    "y_right = np.dot(right_w,np.transpose(right_features))"
   ]
  },
  {
   "cell_type": "code",
   "execution_count": 7,
   "metadata": {},
   "outputs": [],
   "source": [
    "pts_left = np.zeros(shape=(2,21))\n",
    "pts_left[0] = y_left\n",
    "pts_left[1] = left_x\n",
    "pts_left=np.transpose(pts_left)"
   ]
  },
  {
   "cell_type": "code",
   "execution_count": 8,
   "metadata": {},
   "outputs": [],
   "source": [
    "pts_right = np.zeros(shape=(2,21))\n",
    "pts_right[0] = y_right\n",
    "pts_right[1] = right_x\n",
    "pts_right=np.transpose(pts_right)"
   ]
  },
  {
   "cell_type": "code",
   "execution_count": 9,
   "metadata": {},
   "outputs": [],
   "source": [
    "pts_left = pts_left.astype(int)\n",
    "pts_right = pts_right.astype(int)"
   ]
  },
  {
   "cell_type": "code",
   "execution_count": 10,
   "metadata": {},
   "outputs": [],
   "source": [
    "pts_left = pts_left.reshape((-1,1,2))\n",
    "pts_right = pts_right.reshape((-1,1,2))\n",
    "i=cv2.polylines(i,[pts_left],True,(255,255,255))\n",
    "i=cv2.polylines(i,[pts_right],True,(255,255,255))"
   ]
  },
  {
   "cell_type": "code",
   "execution_count": 11,
   "metadata": {},
   "outputs": [],
   "source": [
    "t=res['out_img']\n",
    "h=Image.fromarray(t)\n",
    "h.show()"
   ]
  },
  {
   "cell_type": "code",
   "execution_count": 12,
   "metadata": {},
   "outputs": [
    {
     "data": {
      "text/plain": [
       "(2746,)"
      ]
     },
     "execution_count": 12,
     "metadata": {},
     "output_type": "execute_result"
    }
   ],
   "source": [
    "t=res['right_lane_inds']\n",
    "t.shape"
   ]
  },
  {
   "cell_type": "code",
   "execution_count": null,
   "metadata": {},
   "outputs": [],
   "source": []
  }
 ],
 "metadata": {
  "kernelspec": {
   "display_name": "Python 2",
   "language": "python",
   "name": "python2"
  },
  "language_info": {
   "codemirror_mode": {
    "name": "ipython",
    "version": 2
   },
   "file_extension": ".py",
   "mimetype": "text/x-python",
   "name": "python",
   "nbconvert_exporter": "python",
   "pygments_lexer": "ipython2",
   "version": "2.7.12"
  }
 },
 "nbformat": 4,
 "nbformat_minor": 2
}
